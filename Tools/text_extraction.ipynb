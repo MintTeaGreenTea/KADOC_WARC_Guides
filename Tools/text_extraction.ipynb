{
 "cells": [
  {
   "cell_type": "code",
   "execution_count": null,
   "id": "4525935d",
   "metadata": {},
   "outputs": [],
   "source": [
    "pip install warcio"
   ]
  },
  {
   "cell_type": "markdown",
   "id": "c9e10bcf",
   "metadata": {},
   "source": [
    "Extract text from a single WARC file and store it as a .txt file; this code does not remove HTML tags."
   ]
  },
  {
   "cell_type": "code",
   "execution_count": null,
   "id": "deb450ae",
   "metadata": {},
   "outputs": [],
   "source": [
    "from warcio.archiveiterator import ArchiveIterator\n",
    "import os\n",
    "import html\n",
    "\n",
    "def extract_text(record):\n",
    "    if record.rec_type == 'response':\n",
    "        if record.http_headers:\n",
    "            content_type = record.http_headers.get_header('Content-Type', '').lower()\n",
    "            if 'text/html' in content_type:\n",
    "                html_content = record.content_stream().read().decode('utf-8', 'replace')\n",
    "                text = html.unescape(html_content)\n",
    "                return text\n",
    "    return None\n",
    "\n",
    "def extract_text_from_warc(warc_filename, output_folder):\n",
    "    output_file = os.path.join(output_folder, f\"output_warc.txt\")\n",
    "    try:\n",
    "        with open(warc_filename, 'rb') as stream:\n",
    "            for record in ArchiveIterator(stream):\n",
    "                text = extract_text(record)\n",
    "                if text:\n",
    "                    with open(output_file, 'a', encoding='utf-8') as outfile:\n",
    "                        outfile.write(text)\n",
    "    except Exception as e:\n",
    "                print(f\"Error processing {warc_filename}: {e}\")"
   ]
  },
  {
   "cell_type": "code",
   "execution_count": null,
   "id": "b5ca0114",
   "metadata": {},
   "outputs": [],
   "source": [
    "warc_path = 'path/to/WARC' # Path to where your WARC is.\n",
    "folder_output = 'path/to/output_folder' # Path to the folder where you wish to save your .txt.\n",
    "extract_text_from_warc(warc_path, folder_output)"
   ]
  },
  {
   "cell_type": "markdown",
   "id": "9391bf5f",
   "metadata": {},
   "source": [
    "Extract text from a single WARC file and store it as a .txt file; this code removes all HTML tags and normalizes the text. "
   ]
  },
  {
   "cell_type": "code",
   "execution_count": null,
   "id": "56efe095",
   "metadata": {},
   "outputs": [],
   "source": [
    "from warcio.archiveiterator import ArchiveIterator\n",
    "import os\n",
    "import html\n",
    "import re\n",
    "import string\n",
    "\n",
    "def extract_text_no_html(record):\n",
    "    if record.rec_type == 'response':\n",
    "        if record.http_headers:\n",
    "            content_type = record.http_headers.get_header('Content-Type', '').lower()\n",
    "            if 'text/html' in content_type:\n",
    "                html_content = record.content_stream().read().decode('utf-8', 'replace')\n",
    "                text = re.sub(r'<script[\\s\\S]+?<\\/script>', '', html_content)\n",
    "                text = re.sub(r'<style[\\s\\S]+?<\\/style>', '', text)\n",
    "                text = re.sub(r'<[^>]+?>', '', text)\n",
    "                text = html.unescape(text)\n",
    "                text = re.sub(r'\\s+', ' ', text)\n",
    "                return text.strip()\n",
    "    return None\n",
    "\n",
    "def normalize(text):\n",
    "        \n",
    "    translator = str.maketrans(string.punctuation, ' ' * len(string.punctuation))\n",
    "    text_with_spaces = text.translate(translator)\n",
    "    text_lowercase = text_with_spaces.lower()\n",
    "\n",
    "    words = text_lowercase.split()\n",
    "\n",
    "    filtered_words = [word for word in words if len(word) > 2]\n",
    "\n",
    "    normalized_text = ' '.join(filtered_words)\n",
    "\n",
    "    return normalized_text\n",
    "\n",
    "def extract_text_normalized_from_warc(warc_filename, output_folder):\n",
    "    output_file = os.path.join(output_folder, f\"output_warc.txt\")\n",
    "    try:\n",
    "        with open(warc_filename, 'rb') as stream:\n",
    "            for record in ArchiveIterator(stream):\n",
    "                text = extract_text_no_html(record)\n",
    "                normalized_text = normalize(text)\n",
    "                if text:\n",
    "                    with open(output_file, 'a', encoding='utf-8') as outfile:\n",
    "                        outfile.write(normalized_text + '\\n')\n",
    "    except Exception as e:\n",
    "                print(f\"Error processing {warc_filename}: {e}\")"
   ]
  },
  {
   "cell_type": "code",
   "execution_count": null,
   "id": "cea791a7",
   "metadata": {},
   "outputs": [],
   "source": [
    "warc_path = 'path/to/WARC' # Path to where your WARC is.\n",
    "folder_output = 'path/to/output_folder' # Path to the folder where you wish to save your .txt.\n",
    "extract_text_normalized_from_warc(warc_path, folder_output)"
   ]
  },
  {
   "cell_type": "markdown",
   "id": "017d0450",
   "metadata": {},
   "source": [
    "Extract text from a folder of WARCs and store it all in the same txt file; this code removes all HTML tags and normalizes the text. It also gets rid of punctuation."
   ]
  },
  {
   "cell_type": "code",
   "execution_count": null,
   "id": "f7574cb5",
   "metadata": {},
   "outputs": [],
   "source": [
    "from warcio.archiveiterator import ArchiveIterator\n",
    "import os\n",
    "import html\n",
    "import re\n",
    "import string\n",
    "\n",
    "def extract_text_no_html(record):\n",
    "    if record.rec_type == 'response':\n",
    "        if record.http_headers:\n",
    "            content_type = record.http_headers.get_header('Content-Type', '').lower()\n",
    "            if 'text/html' in content_type:\n",
    "                html_content = record.content_stream().read().decode('utf-8', 'replace')\n",
    "                text = re.sub(r'<script[\\s\\S]+?<\\/script>', '', html_content)\n",
    "                text = re.sub(r'<style[\\s\\S]+?<\\/style>', '', text)\n",
    "                text = re.sub(r'<[^>]+?>', '', text)\n",
    "                text = html.unescape(text)\n",
    "                text = re.sub(r'\\s+', ' ', text)\n",
    "                return text.strip()\n",
    "    return None\n",
    "\n",
    "def normalize(text):\n",
    "        \n",
    "    translator = str.maketrans(string.punctuation, ' ' * len(string.punctuation))\n",
    "    text_with_spaces = text.translate(translator)\n",
    "    text_lowercase = text_with_spaces.lower()\n",
    "\n",
    "    words = text_lowercase.split()\n",
    "\n",
    "    filtered_words = [word for word in words if len(word) > 2]\n",
    "\n",
    "    normalized_text = ' '.join(filtered_words)\n",
    "\n",
    "    return normalized_text\n",
    "\n",
    "def extract_text_normalized_from_folder(input_folder, output_folder):\n",
    "    output_counter = 1\n",
    "    for filename in os.listdir(input_folder):\n",
    "        if filename.endswith('.warc') or filename.endswith('.gz'):\n",
    "            output_file = os.path.join(output_folder, f\"output_{output_counter}.txt\")\n",
    "            output_counter += 1\n",
    "            file_path = os.path.join(input_folder, filename)\n",
    "            try:\n",
    "                with open(file_path, 'rb') as stream, open(output_file, 'w', encoding='utf-8') as outfile:\n",
    "                    for record in ArchiveIterator(stream):\n",
    "                        text = extract_text_no_html(record)\n",
    "                        normalized_text = normalize(text)\n",
    "                        if text:\n",
    "                            outfile.write(text + '\\n')\n",
    "            except Exception as e:\n",
    "                print(f\"Error processing {file_path}: {e}\")"
   ]
  },
  {
   "cell_type": "code",
   "execution_count": null,
   "id": "9d760905",
   "metadata": {},
   "outputs": [],
   "source": [
    "folder_input = 'path/to/WARCs_folder'   # Path to the folder where your WARCs are.\n",
    "folder_output = 'path/to/output_folder' # Path to the folder where you wish to save your .txt.\n",
    "extract_text_normalized_from_folder(folder_input, folder_output)"
   ]
  }
 ],
 "metadata": {
  "kernelspec": {
   "display_name": "Python 3 (ipykernel)",
   "language": "python",
   "name": "python3"
  },
  "language_info": {
   "codemirror_mode": {
    "name": "ipython",
    "version": 3
   },
   "file_extension": ".py",
   "mimetype": "text/x-python",
   "name": "python",
   "nbconvert_exporter": "python",
   "pygments_lexer": "ipython3",
   "version": "3.8.18"
  }
 },
 "nbformat": 4,
 "nbformat_minor": 5
}
