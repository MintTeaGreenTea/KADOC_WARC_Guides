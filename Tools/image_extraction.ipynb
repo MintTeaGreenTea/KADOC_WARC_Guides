{
 "cells": [
  {
   "cell_type": "code",
   "execution_count": null,
   "id": "3c566a48",
   "metadata": {},
   "outputs": [],
   "source": [
    "from warcio.archiveiterator import ArchiveIterator\n",
    "import os\n",
    "\n",
    "image_extensions = ['.jpg', '.jpeg', '.png', '.gif', '.bmp', '.tiff', '.webp']\n",
    "\n",
    "def save_images(warc_file, save_dir):\n",
    "    with open(warc_file, 'rb') as stream:\n",
    "        for record in warcio.ArchiveIterator(stream):\n",
    "            if record.rec_type == 'response':\n",
    "                url = record.rec_headers.get_header('WARC-Target-URI')\n",
    "                for ext in image_extensions:\n",
    "                    if url.lower().endswith(ext):\n",
    "                        print(f\"Found image at URL: {url}\")\n",
    "\n",
    "                        image_data = record.content_stream().read()\n",
    "                        \n",
    "                        filename = os.path.join(save_dir, os.path.basename(url))\n",
    "                        with open(filename, 'wb') as image_file:\n",
    "                            image_file.write(image_data)\n",
    "\n",
    "                        print(f\"Saved image to: {filename}\")\n",
    "\n",
    "warc_file_path = 'path/to/WARC'\n",
    "save_directory = 'path/to/folder'\n",
    "\n",
    "if not os.path.exists(save_directory):\n",
    "    os.makedirs(save_directory)\n",
    "\n",
    "save_images(warc_file_path, save_directory)"
   ]
  }
 ],
 "metadata": {
  "kernelspec": {
   "display_name": "Python 3 (ipykernel)",
   "language": "python",
   "name": "python3"
  },
  "language_info": {
   "codemirror_mode": {
    "name": "ipython",
    "version": 3
   },
   "file_extension": ".py",
   "mimetype": "text/x-python",
   "name": "python",
   "nbconvert_exporter": "python",
   "pygments_lexer": "ipython3",
   "version": "3.8.18"
  }
 },
 "nbformat": 4,
 "nbformat_minor": 5
}
